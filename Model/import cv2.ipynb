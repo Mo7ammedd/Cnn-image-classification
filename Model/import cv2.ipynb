import cv2
import numpy as np
import matplotlib.pyplot as plt

# PCNN parameters
class PCNN:
    def __init__(self, shape, S=1.0, T=1.0, F=1.0, L=1.0):
        self.S = S  # Synaptic link strength
        self.T = T  # Threshold
        self.F = F  # Feedback term
        self.L = L  # Decay constant
        self.shape = shape

        self.link_matrix = np.ones(shape)
        self.Ft = np.zeros(shape)  # Feedback term
        self.Th = np.full(shape, self.T)  # Threshold

    def process(self, image):
        # Input normalization
        normalized_image = image.astype(float) / 255
        
        # Calculate linking term
        self.Lt = cv2.GaussianBlur(normalized_image, (3, 3), 0)

        # PCNN output
        Y = (self.Lt > self.Th).astype(int)

        # Update the feedback term
        self.Ft = self.Ft + Y * self.F

        # Update the threshold
        self.Th = self.Th * (1 - self.L) + self.Ft * self.L

        return Y


# Load an image from CIFAR-10
from keras.datasets import cifar10
(x_train, y_train), (x_test, y_test) = cifar10.load_data()

image = x_train[30]

# Convert to grayscale
gray_image = cv2.cvtColor(image, cv2.COLOR_RGB2GRAY)

# Instantiate and process with PCNN
pcnn = PCNN(shape=gray_image.shape)
pcnn_output = pcnn.process(gray_image)

# Display the PCNN output
plt.imshow(pcnn_output, cmap="gray")
plt.show()
